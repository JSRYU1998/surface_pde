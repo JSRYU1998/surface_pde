{
 "cells": [
  {
   "cell_type": "markdown",
   "id": "c7889758",
   "metadata": {},
   "source": [
    "### Import Modules"
   ]
  },
  {
   "cell_type": "code",
   "execution_count": null,
   "id": "fa0fbf0a",
   "metadata": {},
   "outputs": [],
   "source": [
    "#torch\n",
    "import torch\n",
    "import torch.nn as nn\n",
    "import torch.nn.functional as F\n",
    "import torch_geometric as pyg\n",
    "import torch_scatter"
   ]
  },
  {
   "cell_type": "code",
   "execution_count": null,
   "id": "b73b3769",
   "metadata": {},
   "outputs": [],
   "source": [
    "#visualize\n",
    "import matplotlib.pyplot as plt\n",
    "import plotly.graph_objs as go"
   ]
  },
  {
   "cell_type": "code",
   "execution_count": null,
   "id": "0b0409d4",
   "metadata": {},
   "outputs": [],
   "source": [
    "#user_defined\n",
    "from script.model import Model\n",
    "from script.data_loader import GraphDataset, TorusDataset"
   ]
  },
  {
   "cell_type": "code",
   "execution_count": null,
   "id": "6d08482d",
   "metadata": {},
   "outputs": [],
   "source": [
    "#etc\n",
    "from tqdm.notebook import tqdm\n",
    "import warnings\n",
    "import pickle\n",
    "import pprint"
   ]
  },
  {
   "cell_type": "markdown",
   "id": "1579331c",
   "metadata": {},
   "source": [
    "### Device Setting"
   ]
  },
  {
   "cell_type": "code",
   "execution_count": null,
   "id": "52105e04",
   "metadata": {
    "scrolled": true
   },
   "outputs": [],
   "source": [
    "#input Device number\n",
    "device_num = int(input('Cuda number : '))\n",
    "assert device_num in range(4)"
   ]
  },
  {
   "cell_type": "markdown",
   "id": "926eab51",
   "metadata": {},
   "source": [
    "### Choose Device"
   ]
  },
  {
   "cell_type": "code",
   "execution_count": null,
   "id": "f25ac142",
   "metadata": {},
   "outputs": [],
   "source": [
    "is_cuda = torch.cuda.is_available()\n",
    "device = torch.device('cuda:'+str(device_num) if is_cuda else 'cpu')\n",
    "print('Current cuda device is', device)"
   ]
  },
  {
   "cell_type": "markdown",
   "id": "3d204b02",
   "metadata": {},
   "source": [
    "### Hyperparameter Setting"
   ]
  },
  {
   "cell_type": "code",
   "execution_count": null,
   "id": "adf3b8db",
   "metadata": {},
   "outputs": [],
   "source": [
    "reg_coeff = 1e-2\n",
    "reg_type = 'COS'\n",
    "K_Main = int(input('K (Main) : '))\n",
    "K_reg = int(input('K (Regularization) : '))\n",
    "Is_Normalize = False"
   ]
  },
  {
   "cell_type": "code",
   "execution_count": null,
   "id": "d21d9f69",
   "metadata": {},
   "outputs": [],
   "source": [
    "Batch_Size = 5\n",
    "Learning_Rate = 1e-4\n",
    "epochs = 10000\n",
    "sch_step_size = 1000\n",
    "sch_gamma = 0.5"
   ]
  },
  {
   "cell_type": "code",
   "execution_count": null,
   "id": "d8831b96",
   "metadata": {},
   "outputs": [],
   "source": [
    "tuning_dictionary = {'Batch_Size':Batch_Size,\n",
    "                    'Learning_Rate':Learning_Rate,\n",
    "                    'epochs':epochs,\n",
    "                    'sch_step_size':sch_step_size,\n",
    "                    'sch_gamma':sch_gamma,\n",
    "                    'reg_coeff':reg_coeff,\n",
    "                    'reg_type':reg_type,\n",
    "                    'K_Main':K_Main,\n",
    "                    'K_reg':K_reg,\n",
    "                    'Is_Normalize':Is_Normalize}"
   ]
  },
  {
   "cell_type": "code",
   "execution_count": null,
   "id": "8ec3d187",
   "metadata": {
    "scrolled": true
   },
   "outputs": [],
   "source": [
    "pprint.pprint(tuning_dictionary)"
   ]
  },
  {
   "cell_type": "markdown",
   "id": "755580cf",
   "metadata": {},
   "source": [
    "### Create pyg dataset & dataloader"
   ]
  },
  {
   "cell_type": "code",
   "execution_count": null,
   "id": "d4f257e3",
   "metadata": {},
   "outputs": [],
   "source": [
    "#train\n",
    "train_dataset = TorusDataset(K_Main=K_Main, Is_Normalize=Is_Normalize) \n",
    "train_loader = pyg.loader.DataLoader(train_dataset, batch_size=Batch_Size, shuffle=True, num_workers=8)\n",
    "\n",
    "#test_Cheese (100% sampling_ratio)\n",
    "X_cheese_path = '../../dataset/Section_44/cheese_100/Position_Vectors/cheese_100_0_Position.npy'\n",
    "normal_cheese_path = '../../dataset/Section_44/cheese_100/Normal_Vectors/cheese_100_0_Normal.npy'\n",
    "test_dataset = GraphDataset(X_cheese_path, normal_cheese_path, K_Main=K_Main, Is_Normalize=Is_Normalize)\n",
    "test_loader = pyg.loader.DataLoader(test_dataset, batch_size=1)"
   ]
  },
  {
   "cell_type": "markdown",
   "id": "d1d717ac",
   "metadata": {},
   "source": [
    "### Create the Model and Define Optimizer & Scheduler"
   ]
  },
  {
   "cell_type": "code",
   "execution_count": null,
   "id": "ac4c9944",
   "metadata": {},
   "outputs": [],
   "source": [
    "model = Model().to(device)\n",
    "optimizer = torch.optim.Adam(model.parameters(), lr=Learning_Rate)\n",
    "scheduler = torch.optim.lr_scheduler.StepLR(optimizer, step_size=sch_step_size, gamma=sch_gamma)"
   ]
  },
  {
   "cell_type": "markdown",
   "id": "cfc422c8",
   "metadata": {},
   "source": [
    "### Define Loss"
   ]
  },
  {
   "cell_type": "code",
   "execution_count": null,
   "id": "1da92e8c",
   "metadata": {},
   "outputs": [],
   "source": [
    "#use cosine_similarity for main loss\n",
    "cosine_dist = nn.CosineSimilarity()\n",
    "loss_fn = lambda x_pred, x: (1-abs(cosine_dist(x_pred, x))).mean()"
   ]
  },
  {
   "cell_type": "code",
   "execution_count": null,
   "id": "9f508eaf",
   "metadata": {},
   "outputs": [],
   "source": [
    "#define auxiliary loss for regularizing term to make the normal vector fields be continuous.\n",
    "def reg_fn(data, y_pred, k=K_reg, Reg_Type=reg_type):\n",
    "    index = data.edge_index[:,torch.arange(data.edge_index.size(1)) % K_Main < k] #K_main?\n",
    "    knn_y_pred = torch.gather(y_pred, dim=0, index=index[0].unsqueeze(-1).expand(-1,3)).view(-1,k,3)\n",
    "    \n",
    "    if Reg_Type == 'MSE':\n",
    "        return_value = ((y_pred.view(-1,1,3) - knn_y_pred)**2).mean()\n",
    "    else:\n",
    "        assert Reg_Type == 'COS'\n",
    "        return_value = loss_fn(y_pred.view(-1,1,3), knn_y_pred)\n",
    "        \n",
    "    return return_value"
   ]
  },
  {
   "cell_type": "code",
   "execution_count": null,
   "id": "2611988f",
   "metadata": {},
   "outputs": [],
   "source": [
    "#logs for recording loss\n",
    "logs = dict()\n",
    "logs['train_loss'] = []\n",
    "logs['test_loss'] = []"
   ]
  },
  {
   "cell_type": "markdown",
   "id": "c78ee457",
   "metadata": {},
   "source": [
    "### Train"
   ]
  },
  {
   "cell_type": "code",
   "execution_count": null,
   "id": "66fb155f",
   "metadata": {
    "scrolled": true
   },
   "outputs": [],
   "source": [
    "#torch.manual_seed(tuning_dictionary['seed_number_train'])\n",
    "warnings.filterwarnings(action='ignore')\n",
    "\n",
    "for epoch in tqdm(range(1,epochs+1)):\n",
    "    model.train()     \n",
    "    batch_loss = 0.\n",
    "    for data in train_loader:\n",
    "        data = data.to(device)\n",
    "        optimizer.zero_grad()\n",
    "        y_pred = model(data)\n",
    "        loss = loss_fn(y_pred, data.y) + reg_coeff*reg_fn(data, y_pred)\n",
    "        loss.backward()\n",
    "        optimizer.step()\n",
    "        batch_loss += loss.item()\n",
    "    logs['train_loss'].append(batch_loss/len(train_loader))\n",
    "    scheduler.step()\n",
    "    \n",
    "    # test\n",
    "    with torch.no_grad():\n",
    "        model.eval()     \n",
    "        batch_loss = 0.\n",
    "        for data in test_loader:\n",
    "            data = data.to(device)\n",
    "            y_pred = model(data)\n",
    "            loss = loss_fn(y_pred, data.y) + reg_coeff*reg_fn(data, y_pred)\n",
    "            batch_loss += loss.item()\n",
    "        logs['test_loss'].append(batch_loss/len(test_loader))\n",
    "\n",
    "        \n",
    "    if epoch % 5 == 0:\n",
    "        print('epoch {} | train_loss: {:1.2e}, test_loss: {:1.2e}'.format(\n",
    "            epoch, \n",
    "            logs['train_loss'][-1],\n",
    "            logs['test_loss'][-1])\n",
    "        )"
   ]
  },
  {
   "cell_type": "markdown",
   "id": "bc9038b6",
   "metadata": {},
   "source": [
    "### Save the trained model and the logs file."
   ]
  },
  {
   "cell_type": "code",
   "execution_count": null,
   "id": "60ee56f2",
   "metadata": {},
   "outputs": [],
   "source": [
    "torch.save((tuning_dictionary, logs, model.cpu().state_dict()), './save/trained_GNN_model.pt')"
   ]
  },
  {
   "cell_type": "markdown",
   "id": "4cf3a885",
   "metadata": {},
   "source": [
    "### Plotting Loss"
   ]
  },
  {
   "cell_type": "code",
   "execution_count": null,
   "id": "75d4791c",
   "metadata": {},
   "outputs": [],
   "source": [
    "plt.figure()\n",
    "plt.plot(logs['train_loss'], label='train')\n",
    "# plt.plot(logs['test_loss'], label='test')\n",
    "plt.yscale('log')\n",
    "plt.grid()\n",
    "plt.legend()\n",
    "#plt.show()\n",
    "plt.savefig('./save/plot_Loss.png')"
   ]
  }
 ],
 "metadata": {
  "kernelspec": {
   "display_name": "Python 3 (ipykernel)",
   "language": "python",
   "name": "python3"
  },
  "language_info": {
   "codemirror_mode": {
    "name": "ipython",
    "version": 3
   },
   "file_extension": ".py",
   "mimetype": "text/x-python",
   "name": "python",
   "nbconvert_exporter": "python",
   "pygments_lexer": "ipython3",
   "version": "3.11.5"
  }
 },
 "nbformat": 4,
 "nbformat_minor": 5
}
