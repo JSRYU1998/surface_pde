{
 "cells": [
  {
   "cell_type": "markdown",
   "id": "25c263b5",
   "metadata": {},
   "source": [
    "### Import Modules"
   ]
  },
  {
   "cell_type": "code",
   "execution_count": null,
   "id": "1e8635ea",
   "metadata": {},
   "outputs": [],
   "source": [
    "import torch\n",
    "import argparse\n",
    "import torch.nn as nn"
   ]
  },
  {
   "cell_type": "code",
   "execution_count": null,
   "id": "c1dac137",
   "metadata": {},
   "outputs": [],
   "source": [
    "import numpy as np\n",
    "from tqdm.notebook import tqdm\n",
    "import matplotlib.pyplot as plt\n",
    "import plotly.graph_objects as go\n",
    "import scipy\n",
    "import time"
   ]
  },
  {
   "cell_type": "code",
   "execution_count": null,
   "id": "bc4f0216",
   "metadata": {},
   "outputs": [],
   "source": [
    "from script.model import Model, SimpleNet_TimeDependent\n",
    "from script.approximator import PCALocalApproximation, GNNLocalApproximation, SurfaceDerivative\n",
    "from script.auxiliary import *"
   ]
  },
  {
   "cell_type": "markdown",
   "id": "621fd391",
   "metadata": {},
   "source": [
    "### Measure Time"
   ]
  },
  {
   "cell_type": "code",
   "execution_count": null,
   "id": "7fbc009a",
   "metadata": {},
   "outputs": [],
   "source": [
    "before_time = time.time()"
   ]
  },
  {
   "cell_type": "markdown",
   "id": "6ab863a3",
   "metadata": {},
   "source": [
    "### Device Setting"
   ]
  },
  {
   "cell_type": "code",
   "execution_count": null,
   "id": "bebaf302",
   "metadata": {},
   "outputs": [],
   "source": [
    "device_num = int(input('Device Number : '))\n",
    "assert device_num in range(4)\n",
    "is_cuda = torch.cuda.is_available()\n",
    "device = torch.device('cuda:'+str(device_num) if is_cuda else 'cpu')\n",
    "device_cpu = torch.device('cpu')\n",
    "print('Current cuda device is', device)"
   ]
  },
  {
   "cell_type": "markdown",
   "id": "198950dd",
   "metadata": {},
   "source": [
    "### Set K"
   ]
  },
  {
   "cell_type": "code",
   "execution_count": null,
   "id": "c3f3fa22",
   "metadata": {
    "scrolled": true
   },
   "outputs": [],
   "source": [
    "K = int(input('K : '))"
   ]
  },
  {
   "cell_type": "markdown",
   "id": "94cac664",
   "metadata": {},
   "source": [
    "### Choose the Domain and Open some tensors"
   ]
  },
  {
   "cell_type": "code",
   "execution_count": null,
   "id": "a89b643e",
   "metadata": {},
   "outputs": [],
   "source": [
    "domain_type = 'data_Torus_Advection'\n",
    "noise_list = ['00025', '0005', '00075', '001'] #[0.0025, 0.005, 0.0075, 0.01, 0.0125, 0.015], zero means the original pts"
   ]
  },
  {
   "cell_type": "code",
   "execution_count": null,
   "id": "2e4e844d",
   "metadata": {},
   "outputs": [],
   "source": [
    "#Choose h\n",
    "noise_level = input('noise level : ')\n",
    "assert noise_level in noise_list"
   ]
  },
  {
   "cell_type": "code",
   "execution_count": null,
   "id": "5d27418f",
   "metadata": {},
   "outputs": [],
   "source": [
    "#Load the Position_Vectors\n",
    "X_path = '../../dataset/Section_45/Position_Vectors/torus_Position_with_Noise_level_{}.npy'.format(noise_level)\n",
    "X = torch.from_numpy(np.load(X_path)).float()"
   ]
  },
  {
   "cell_type": "markdown",
   "id": "8ad2c2f2",
   "metadata": {},
   "source": [
    "### Load the pretrained GNN model"
   ]
  },
  {
   "cell_type": "code",
   "execution_count": null,
   "id": "d1b3036b",
   "metadata": {},
   "outputs": [],
   "source": [
    "GNN_model = Model().to(device)\n",
    "_, _, state_dict = torch.load('../section_31/save/trained_GNN_model.pt')\n",
    "GNN_model.load_state_dict(state_dict)"
   ]
  },
  {
   "cell_type": "markdown",
   "id": "45785bc6",
   "metadata": {},
   "source": [
    "### Approximate Surfaces"
   ]
  },
  {
   "cell_type": "code",
   "execution_count": null,
   "id": "0e2d9a1a",
   "metadata": {},
   "outputs": [],
   "source": [
    "class Args:\n",
    "    pass\n",
    "\n",
    "args = Args()\n",
    "args.K = K"
   ]
  },
  {
   "cell_type": "code",
   "execution_count": null,
   "id": "ca01c9bb",
   "metadata": {
    "scrolled": true
   },
   "outputs": [],
   "source": [
    "surface = GNNLocalApproximation(args, X, GNN_model)"
   ]
  },
  {
   "cell_type": "code",
   "execution_count": null,
   "id": "d02ccb8e",
   "metadata": {},
   "outputs": [],
   "source": [
    "x = surface.X_knn\n",
    "weight = surface.weight\n",
    "basis = surface.basis\n",
    "coef_a = surface.coef_a\n",
    "tangent_vectors = surface.tangent_vectors\n",
    "normal_vectors = surface.normal_vectors"
   ]
  },
  {
   "cell_type": "markdown",
   "id": "e8413846",
   "metadata": {},
   "source": [
    "### Hyperparameters Setting"
   ]
  },
  {
   "cell_type": "code",
   "execution_count": null,
   "id": "a3a31f29",
   "metadata": {},
   "outputs": [],
   "source": [
    "t_batch_size = 10 #batch size for 't' (Temporal)\n",
    "batch_size = len(X)//3 ##batch size for 'xyz' (Spatial)\n",
    "learning_rate = 1e-3\n",
    "sch_Step_Size = 2000\n",
    "sch_Gamma = 0.5\n",
    "num_epochs = 20000\n",
    "T = torch.pi #Terminal Time"
   ]
  },
  {
   "cell_type": "markdown",
   "id": "c7576aaa",
   "metadata": {},
   "source": [
    "### Define v_term, u_exact and phi_exact"
   ]
  },
  {
   "cell_type": "code",
   "execution_count": null,
   "id": "d5e6860e",
   "metadata": {},
   "outputs": [],
   "source": [
    "#v : velocity term\n",
    "dtheta_eval = lambda x: torch.concat((-x[:,[1]], x[:,[0]], torch.zeros_like(x[:,[0]])), 1)\n",
    "dphi_eval = lambda x: torch.concat((-x[:,[0]]*x[:,[2]]/torch.sqrt(x[:,[0]]**2+x[:,[1]]**2), \n",
    "                                   -x[:,[1]]*x[:,[2]]/torch.sqrt(x[:,[0]]**2+x[:,[1]]**2), \n",
    "                                   torch.sqrt(x[:,[0]]**2+x[:,[1]]**2) - 1), 1)\n",
    "v_eval = lambda x: dtheta_eval(x) + 2*dphi_eval(x)"
   ]
  },
  {
   "cell_type": "code",
   "execution_count": null,
   "id": "88c2608b",
   "metadata": {},
   "outputs": [],
   "source": [
    "#u_exact\n",
    "init_eval = lambda x: x[:,[0]]/torch.sqrt(x[:,[0]]**2+x[:,[1]]**2) + x[:,[2]]/(1/2)\n",
    "u_true_eval = lambda x: -x[:,[0]]/torch.sqrt(x[:,[0]]**2+x[:,[1]]**2) + x[:,[2]]/(1/2)"
   ]
  },
  {
   "cell_type": "markdown",
   "id": "17a6e941",
   "metadata": {},
   "source": [
    "### Declare the model and the optimizer"
   ]
  },
  {
   "cell_type": "code",
   "execution_count": null,
   "id": "37645dd1",
   "metadata": {},
   "outputs": [],
   "source": [
    "model = SimpleNet_TimeDependent(init_eval).to(device)\n",
    "optimizer = torch.optim.Adam(model.parameters(), lr=learning_rate)\n",
    "scheduler = torch.optim.lr_scheduler.StepLR(optimizer, step_size=sch_Step_Size, gamma=sch_Gamma)"
   ]
  },
  {
   "cell_type": "markdown",
   "id": "3bacd189",
   "metadata": {},
   "source": [
    "### Define Loss function"
   ]
  },
  {
   "cell_type": "code",
   "execution_count": null,
   "id": "8bb85b7d",
   "metadata": {},
   "outputs": [],
   "source": [
    "def get_loss_ge(model, t, batch, device):\n",
    "    x, weight, basis, A_inv, derivative = batch\n",
    "    x = x.to(device)\n",
    "    weight = weight.to(device)\n",
    "    basis = basis.to(device)\n",
    "    A_inv = A_inv.to(device)\n",
    "    derivative = derivative.to(device)\n",
    "    \n",
    "    t = expand(t, len(x)//t_batch_size).reshape(-1,1)\n",
    "    t.requires_grad = True\n",
    "    t = t.to(device)\n",
    "    \n",
    "    u = model(t, x).reshape(-1,K)\n",
    "    \n",
    "    t0 = t.reshape(-1,K)[:,[0]]\n",
    "    ut = compute_grad(model(t0, x.reshape(-1,K,3)[:,0]), t0)\n",
    "        \n",
    "    b = (weight.reshape(-1,K,1) * basis * u.reshape(-1,K,1)).sum(1)\n",
    "    coef_u = (A_inv * b.unsqueeze(1)).sum(-1)\n",
    "    grad = derivative.gradient(coef_u)\n",
    "    v = v_eval(x.reshape(-1,K,3)[:,0].detach())\n",
    "    \n",
    "    loss_ge = ((ut + (v*grad).sum(1).reshape(-1,1))**2).mean()\n",
    "    return loss_ge"
   ]
  },
  {
   "cell_type": "markdown",
   "id": "44c3614c",
   "metadata": {},
   "source": [
    "### Make Batch"
   ]
  },
  {
   "cell_type": "code",
   "execution_count": null,
   "id": "b04930e3",
   "metadata": {
    "scrolled": true
   },
   "outputs": [],
   "source": [
    "u_true = u_true_eval(X)\n",
    "batches = []\n",
    "for i in range(0,len(x),batch_size):\n",
    "    x_batch = x[i:i+batch_size].repeat(t_batch_size,1,1).reshape(-1,3)\n",
    "    weight_batch = weight[i:i+batch_size].repeat(t_batch_size,1)\n",
    "    basis_batch = basis[i:i+batch_size].repeat(t_batch_size,1,1)\n",
    "\n",
    "    A_batch = (weight_batch.reshape(-1,K,1,1) * basis_batch.reshape(-1,K,6,1) * basis_batch.reshape(-1,K,1,6)).sum(1)\n",
    "    A_inv_batch = torch.linalg.inv(A_batch)\n",
    "\n",
    "    derivative_batch = SurfaceDerivative(coef_a[i:i+batch_size].repeat(t_batch_size,1), \n",
    "                                         tangent_vectors[i:i+batch_size].repeat(t_batch_size,1,1), \n",
    "                                         normal_vectors[i:i+batch_size].repeat(t_batch_size,1))\n",
    "\n",
    "    batches.append((x_batch, \n",
    "                    weight_batch, \n",
    "                    basis_batch,\n",
    "                    A_inv_batch, \n",
    "                    derivative_batch))"
   ]
  },
  {
   "cell_type": "markdown",
   "id": "6fbdd6de",
   "metadata": {},
   "source": [
    "### Train"
   ]
  },
  {
   "cell_type": "code",
   "execution_count": null,
   "id": "c28cdc3d",
   "metadata": {
    "scrolled": true
   },
   "outputs": [],
   "source": [
    "logs = dict()\n",
    "logs['loss_ge'] = []\n",
    "logs['l2_error'] = []\n",
    "logs['max_error'] = []\n",
    "\n",
    "for epoch in tqdm(range(1, num_epochs+1)):\n",
    "    model.train()\n",
    "\n",
    "    t = torch.rand(t_batch_size)*T\n",
    "\n",
    "    batch_loss_ge = 0.\n",
    "    for batch in batches:\n",
    "        optimizer.zero_grad()\n",
    "        loss_ge = get_loss_ge(model, t, batch, device)\n",
    "        loss = loss_ge\n",
    "        loss.backward()\n",
    "        optimizer.step()\n",
    "        batch_loss_ge += loss_ge.item()\n",
    "    scheduler.step()\n",
    "\n",
    "    logs['loss_ge'].append(batch_loss_ge / len(batches))\n",
    "\n",
    "    model.eval()\n",
    "    t_test = (torch.ones(len(X),1)*T).to(device)\n",
    "    x_test = X.to(device)\n",
    "    u_pred = model(t_test, x_test).detach().cpu()\n",
    "    logs['l2_error'].append(rel_l2_error(u_true, u_pred).item())\n",
    "    logs['max_error'].append(rel_max_error(u_true, u_pred).item())\n",
    "\n",
    "    if epoch % 100 == 0:\n",
    "        print('epoch {} | l2_error: {:1.2e} max_error: {:1.2e}'.format(epoch, logs['l2_error'][-1], logs['max_error'][-1]))"
   ]
  },
  {
   "cell_type": "markdown",
   "id": "84c425ab",
   "metadata": {},
   "source": [
    "### Plotting"
   ]
  },
  {
   "cell_type": "code",
   "execution_count": null,
   "id": "1c98d54a",
   "metadata": {},
   "outputs": [],
   "source": [
    "plt.figure()\n",
    "plt.plot(logs['loss_ge'], label=r'$Loss_{GE}$')\n",
    "plt.yscale('log')\n",
    "plt.grid()\n",
    "plt.legend()\n",
    "plt.show()\n",
    "\n",
    "plt.figure()\n",
    "plt.plot(logs['l2_error'], label=r'$L_2 error$')\n",
    "plt.plot(logs['max_error'], label=r'$L_\\infty error$')\n",
    "plt.yscale('log')\n",
    "plt.grid()\n",
    "plt.legend()\n",
    "plt.show()"
   ]
  },
  {
   "cell_type": "markdown",
   "id": "915f6755",
   "metadata": {},
   "source": [
    "### Save"
   ]
  },
  {
   "cell_type": "code",
   "execution_count": null,
   "id": "59ac004d",
   "metadata": {},
   "outputs": [],
   "source": [
    "save_path = './save/Section_45/torus_with_Noise_{}.pt'.format(noise_level)\n",
    "torch.save((logs, model.to(device_cpu).state_dict()), save_path)"
   ]
  },
  {
   "cell_type": "markdown",
   "id": "bc40d9fb",
   "metadata": {},
   "source": [
    "### Check the Error"
   ]
  },
  {
   "cell_type": "code",
   "execution_count": null,
   "id": "2a29a5dc",
   "metadata": {},
   "outputs": [],
   "source": [
    "logs, load = torch.load(save_path)\n",
    "model = SimpleNet_TimeDependent(init_eval).to(device)\n",
    "model.load_state_dict(load)"
   ]
  },
  {
   "cell_type": "code",
   "execution_count": null,
   "id": "292f289b",
   "metadata": {},
   "outputs": [],
   "source": [
    "print('Rel_L2_Error : ' + \"%.2e\"%logs['l2_error'][-1])\n",
    "print('Rel_Max_Error : ' + \"%.2e\"%logs['max_error'][-1])"
   ]
  },
  {
   "cell_type": "markdown",
   "id": "d7b86579",
   "metadata": {},
   "source": [
    "### Measure Time"
   ]
  },
  {
   "cell_type": "code",
   "execution_count": null,
   "id": "737915a4",
   "metadata": {},
   "outputs": [],
   "source": [
    "after_time = time.time()\n",
    "how_long = int(after_time - before_time)\n",
    "print('{}hr {}min {}sec'.format(how_long//3600, (how_long%3600)//60, (how_long%3600)%60))"
   ]
  }
 ],
 "metadata": {
  "kernelspec": {
   "display_name": "Python 3 (ipykernel)",
   "language": "python",
   "name": "python3"
  },
  "language_info": {
   "codemirror_mode": {
    "name": "ipython",
    "version": 3
   },
   "file_extension": ".py",
   "mimetype": "text/x-python",
   "name": "python",
   "nbconvert_exporter": "python",
   "pygments_lexer": "ipython3",
   "version": "3.11.9"
  }
 },
 "nbformat": 4,
 "nbformat_minor": 5
}
