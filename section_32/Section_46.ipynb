{
 "cells": [
  {
   "cell_type": "markdown",
   "id": "25c263b5",
   "metadata": {},
   "source": [
    "### Import Modules"
   ]
  },
  {
   "cell_type": "code",
   "execution_count": null,
   "id": "1e8635ea",
   "metadata": {},
   "outputs": [],
   "source": [
    "import torch\n",
    "import argparse\n",
    "import torch.nn as nn"
   ]
  },
  {
   "cell_type": "code",
   "execution_count": null,
   "id": "c1dac137",
   "metadata": {},
   "outputs": [],
   "source": [
    "import numpy as np\n",
    "from tqdm.notebook import tqdm\n",
    "import matplotlib.pyplot as plt\n",
    "import plotly.graph_objects as go\n",
    "import scipy\n",
    "import time\n",
    "import os\n",
    "from pprint import pprint"
   ]
  },
  {
   "cell_type": "code",
   "execution_count": null,
   "id": "bc4f0216",
   "metadata": {},
   "outputs": [],
   "source": [
    "from script.model import Model, SimpleNet_TimeDependent\n",
    "from script.approximator import PCALocalApproximation, GNNLocalApproximation, SurfaceDerivative\n",
    "from script.auxiliary import *"
   ]
  },
  {
   "cell_type": "markdown",
   "id": "621fd391",
   "metadata": {},
   "source": [
    "### Measure Time"
   ]
  },
  {
   "cell_type": "code",
   "execution_count": null,
   "id": "7fbc009a",
   "metadata": {},
   "outputs": [],
   "source": [
    "before_time = time.time()"
   ]
  },
  {
   "cell_type": "markdown",
   "id": "6ab863a3",
   "metadata": {},
   "source": [
    "### Device Setting"
   ]
  },
  {
   "cell_type": "code",
   "execution_count": null,
   "id": "bebaf302",
   "metadata": {
    "scrolled": true
   },
   "outputs": [],
   "source": [
    "device_num = int(input('Device Number : '))\n",
    "assert device_num in range(4)\n",
    "is_cuda = torch.cuda.is_available()\n",
    "device = torch.device('cuda:'+str(device_num) if is_cuda else 'cpu')\n",
    "device_cpu = torch.device('cpu')\n",
    "print('Current cuda device is', device)"
   ]
  },
  {
   "cell_type": "markdown",
   "id": "198950dd",
   "metadata": {},
   "source": [
    "### Set K"
   ]
  },
  {
   "cell_type": "code",
   "execution_count": null,
   "id": "c3f3fa22",
   "metadata": {},
   "outputs": [],
   "source": [
    "K = int(input('K : '))"
   ]
  },
  {
   "cell_type": "markdown",
   "id": "94cac664",
   "metadata": {},
   "source": [
    "### Choose the Domain and Open some tensors"
   ]
  },
  {
   "cell_type": "code",
   "execution_count": null,
   "id": "070528b7",
   "metadata": {},
   "outputs": [],
   "source": [
    "npy_list = os.listdir('../../dataset/Section_46')\n",
    "domain_type_list = []\n",
    "for n in range(len(npy_list)):\n",
    "    domain_type_list.append(npy_list[n].split('_')[0])\n",
    "#pprint(domain_type_list)"
   ]
  },
  {
   "cell_type": "code",
   "execution_count": null,
   "id": "20ae3d09",
   "metadata": {
    "scrolled": true
   },
   "outputs": [],
   "source": [
    "domain_type = input(\"Choose the Domain Type (ex. 'centaur0') : \")\n",
    "assert domain_type in domain_type_list"
   ]
  },
  {
   "cell_type": "code",
   "execution_count": null,
   "id": "6ca494e3",
   "metadata": {},
   "outputs": [],
   "source": [
    "T = float(input('Terminal Time : ')) #Terminal Time"
   ]
  },
  {
   "cell_type": "code",
   "execution_count": null,
   "id": "5d27418f",
   "metadata": {},
   "outputs": [],
   "source": [
    "#Load the Position_Vectors\n",
    "X_path = '../../dataset/Section_46/' + domain_type +  '_Point_Clouds_array.npy'\n",
    "X = torch.from_numpy(np.load(X_path)).float()\n",
    "#X = X - X.mean(dim=0) #Centering \n",
    "#X = X / torch.max(torch.abs(X)) #scaling"
   ]
  },
  {
   "cell_type": "markdown",
   "id": "2753108c",
   "metadata": {},
   "source": [
    "### Load the pretrained GNN model"
   ]
  },
  {
   "cell_type": "code",
   "execution_count": null,
   "id": "bbc68c57",
   "metadata": {},
   "outputs": [],
   "source": [
    "GNN_model = Model().to(device)\n",
    "_, _, state_dict = torch.load('../section_31/save/trained_GNN_model.pt')\n",
    "GNN_model.load_state_dict(state_dict)"
   ]
  },
  {
   "cell_type": "markdown",
   "id": "45785bc6",
   "metadata": {},
   "source": [
    "### Approximate Surfaces"
   ]
  },
  {
   "cell_type": "code",
   "execution_count": null,
   "id": "0e2d9a1a",
   "metadata": {},
   "outputs": [],
   "source": [
    "class Args:\n",
    "    pass\n",
    "\n",
    "args = Args()\n",
    "args.K = K"
   ]
  },
  {
   "cell_type": "code",
   "execution_count": null,
   "id": "ca01c9bb",
   "metadata": {
    "scrolled": true
   },
   "outputs": [],
   "source": [
    "surface = GNNLocalApproximation(args, X, GNN_model)"
   ]
  },
  {
   "cell_type": "code",
   "execution_count": null,
   "id": "d02ccb8e",
   "metadata": {},
   "outputs": [],
   "source": [
    "x = surface.X_knn\n",
    "weight = surface.weight\n",
    "basis = surface.basis\n",
    "coef_a = surface.coef_a\n",
    "tangent_vectors = surface.tangent_vectors\n",
    "normal_vectors = surface.normal_vectors"
   ]
  },
  {
   "cell_type": "markdown",
   "id": "e8413846",
   "metadata": {},
   "source": [
    "### Hyperparameters Setting"
   ]
  },
  {
   "cell_type": "code",
   "execution_count": null,
   "id": "a3a31f29",
   "metadata": {},
   "outputs": [],
   "source": [
    "t_batch_size = 10 #batch size for 't' (Temporal)\n",
    "batch_size = len(X)//3 ##batch size for 'xyz' (Spatial)\n",
    "learning_rate = 1e-3\n",
    "sch_Step_Size = 2000\n",
    "sch_Gamma = 0.5\n",
    "num_epochs = 20000"
   ]
  },
  {
   "cell_type": "markdown",
   "id": "708ccb34",
   "metadata": {},
   "source": [
    "### Choose the source point (Randomly)"
   ]
  },
  {
   "cell_type": "code",
   "execution_count": null,
   "id": "8cbafff1",
   "metadata": {},
   "outputs": [],
   "source": [
    "source = X[torch.randint(len(X),(1,))][0]\n",
    "init_eval = lambda x: torch.exp(-75*((x[...,[0]]-source[0])**2 + (x[...,[1]]-source[1])**2 + (x[...,[2]]-source[2])**2))"
   ]
  },
  {
   "cell_type": "markdown",
   "id": "17a6e941",
   "metadata": {},
   "source": [
    "### Declare the model and the optimizer"
   ]
  },
  {
   "cell_type": "code",
   "execution_count": null,
   "id": "37645dd1",
   "metadata": {},
   "outputs": [],
   "source": [
    "model = SimpleNet_TimeDependent(init_eval).to(device)\n",
    "optimizer = torch.optim.Adam(model.parameters(), lr=learning_rate)\n",
    "scheduler = torch.optim.lr_scheduler.StepLR(optimizer, step_size=sch_Step_Size, gamma=sch_Gamma)"
   ]
  },
  {
   "cell_type": "markdown",
   "id": "3bacd189",
   "metadata": {},
   "source": [
    "### Define Loss function"
   ]
  },
  {
   "cell_type": "code",
   "execution_count": null,
   "id": "8bb85b7d",
   "metadata": {},
   "outputs": [],
   "source": [
    "def get_loss_ge(model, t, batch, device):\n",
    "    x, weight, basis, A_inv, derivative = batch\n",
    "    x = x.to(device)\n",
    "    weight = weight.to(device)\n",
    "    basis = basis.to(device)\n",
    "    A_inv = A_inv.to(device)\n",
    "    derivative = derivative.to(device)\n",
    "    \n",
    "    t = expand(t, len(x)//t_batch_size).reshape(-1,1)\n",
    "    t.requires_grad = True\n",
    "    t = t.to(device)\n",
    "    \n",
    "    u = model(t, x).reshape(-1,K)\n",
    "    \n",
    "    t0 = t.reshape(-1,K)[:,[0]]\n",
    "    ut = compute_grad(model(t0, x.reshape(-1,K,3)[:,0]), t0)\n",
    "    #f = eval_f_point(eval_u, eval_phi, x.reshape(-1,K,3)[:,0], t0.reshape(-1))\n",
    "    \n",
    "    #print(f.mean())\n",
    "    \n",
    "    b = (weight.reshape(-1,K,1) * basis * u.reshape(-1,K,1)).sum(1)\n",
    "    coef_u = (A_inv * b.unsqueeze(1)).sum(-1)\n",
    "    laplacian = derivative.laplacian(coef_u).reshape(-1,1)\n",
    "\n",
    "    loss_ge = ((ut - 0.05*laplacian)**2).mean()\n",
    "    return loss_ge"
   ]
  },
  {
   "cell_type": "markdown",
   "id": "28ff7743",
   "metadata": {},
   "source": [
    "### Make Batch"
   ]
  },
  {
   "cell_type": "code",
   "execution_count": null,
   "id": "6438d192",
   "metadata": {},
   "outputs": [],
   "source": [
    "batches = []\n",
    "for i in range(0,len(x),batch_size):\n",
    "    x_batch = x[i:i+batch_size].repeat(t_batch_size,1,1).reshape(-1,3)\n",
    "    weight_batch = weight[i:i+batch_size].repeat(t_batch_size,1)\n",
    "    basis_batch = basis[i:i+batch_size].repeat(t_batch_size,1,1)\n",
    "\n",
    "    A_batch = (weight_batch.reshape(-1,K,1,1) * basis_batch.reshape(-1,K,6,1) * basis_batch.reshape(-1,K,1,6)).sum(1)\n",
    "    A_inv_batch = torch.linalg.inv(A_batch)\n",
    "\n",
    "    derivative_batch = SurfaceDerivative(coef_a[i:i+batch_size].repeat(t_batch_size,1), \n",
    "                                         tangent_vectors[i:i+batch_size].repeat(t_batch_size,1,1), \n",
    "                                         normal_vectors[i:i+batch_size].repeat(t_batch_size,1))\n",
    "\n",
    "    batches.append((x_batch, \n",
    "                    weight_batch, \n",
    "                    basis_batch,\n",
    "                    A_inv_batch, \n",
    "                    derivative_batch))"
   ]
  },
  {
   "cell_type": "markdown",
   "id": "4ddbf2d7",
   "metadata": {},
   "source": [
    "### Train"
   ]
  },
  {
   "cell_type": "code",
   "execution_count": null,
   "id": "8fbb379d",
   "metadata": {
    "scrolled": true
   },
   "outputs": [],
   "source": [
    "logs = dict()\n",
    "logs['loss_ge'] = []\n",
    "logs['source'] = source\n",
    "for epoch in tqdm(range(1,num_epochs+1)):\n",
    "    model.train()\n",
    "\n",
    "    t = torch.rand(t_batch_size)*T\n",
    "\n",
    "    batch_loss_ge = 0.\n",
    "    for batch in batches:\n",
    "        optimizer.zero_grad()\n",
    "        loss_ge = get_loss_ge(model, t, batch, device)\n",
    "        loss = loss_ge\n",
    "        loss.backward()\n",
    "        optimizer.step()\n",
    "        batch_loss_ge += loss_ge.item()\n",
    "    scheduler.step()\n",
    "\n",
    "    logs['loss_ge'].append(batch_loss_ge / len(batches))\n",
    "\n",
    "    if epoch % 100 == 0:\n",
    "        print('epoch {} | loss_ge: {:1.2e}'.format(epoch, \n",
    "                                                   logs['loss_ge'][-1]))"
   ]
  },
  {
   "cell_type": "markdown",
   "id": "027ade5c",
   "metadata": {},
   "source": [
    "### Plotting"
   ]
  },
  {
   "cell_type": "code",
   "execution_count": null,
   "id": "18715959",
   "metadata": {},
   "outputs": [],
   "source": [
    "plt.figure()\n",
    "plt.plot(logs['loss_ge'], label=r'$Loss_{GE}$')\n",
    "plt.yscale('log')\n",
    "plt.grid()\n",
    "plt.legend()\n",
    "plt.show()"
   ]
  },
  {
   "cell_type": "markdown",
   "id": "3b3ee274",
   "metadata": {},
   "source": [
    "### Save the model"
   ]
  },
  {
   "cell_type": "code",
   "execution_count": null,
   "id": "254fafbd",
   "metadata": {},
   "outputs": [],
   "source": [
    "torch.save((logs, model.cpu().state_dict()), './save/Section_46/' + domain_type + '/' + domain_type + '.pt')"
   ]
  },
  {
   "cell_type": "markdown",
   "id": "073909b7",
   "metadata": {},
   "source": [
    "### Measure Time"
   ]
  },
  {
   "cell_type": "code",
   "execution_count": null,
   "id": "ea4bbf16",
   "metadata": {},
   "outputs": [],
   "source": [
    "after_time = time.time()\n",
    "how_long = int(after_time - before_time)\n",
    "print('{}hr {}min {}sec'.format(how_long//3600, (how_long%3600)//60, (how_long%3600)%60))"
   ]
  }
 ],
 "metadata": {
  "kernelspec": {
   "display_name": "Python 3 (ipykernel)",
   "language": "python",
   "name": "python3"
  },
  "language_info": {
   "codemirror_mode": {
    "name": "ipython",
    "version": 3
   },
   "file_extension": ".py",
   "mimetype": "text/x-python",
   "name": "python",
   "nbconvert_exporter": "python",
   "pygments_lexer": "ipython3",
   "version": "3.11.9"
  }
 },
 "nbformat": 4,
 "nbformat_minor": 5
}
