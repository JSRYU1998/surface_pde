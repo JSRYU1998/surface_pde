{
 "cells": [
  {
   "cell_type": "markdown",
   "id": "25c263b5",
   "metadata": {},
   "source": [
    "### Import Modules"
   ]
  },
  {
   "cell_type": "code",
   "execution_count": null,
   "id": "1e8635ea",
   "metadata": {},
   "outputs": [],
   "source": [
    "import torch\n",
    "import argparse\n",
    "import torch.nn as nn"
   ]
  },
  {
   "cell_type": "code",
   "execution_count": null,
   "id": "c1dac137",
   "metadata": {},
   "outputs": [],
   "source": [
    "import numpy as np\n",
    "from tqdm.notebook import tqdm\n",
    "import matplotlib.pyplot as plt\n",
    "import plotly.graph_objects as go\n",
    "import scipy\n",
    "import time"
   ]
  },
  {
   "cell_type": "code",
   "execution_count": null,
   "id": "bc4f0216",
   "metadata": {},
   "outputs": [],
   "source": [
    "from script.model import Model, SimpleNet_TimeDependent\n",
    "from script.approximator import PCALocalApproximation, GNNLocalApproximation, SurfaceDerivative\n",
    "from script.auxiliary import *"
   ]
  },
  {
   "cell_type": "markdown",
   "id": "621fd391",
   "metadata": {},
   "source": [
    "### Measure Time"
   ]
  },
  {
   "cell_type": "code",
   "execution_count": null,
   "id": "7fbc009a",
   "metadata": {},
   "outputs": [],
   "source": [
    "before_time = time.time()"
   ]
  },
  {
   "cell_type": "markdown",
   "id": "6ab863a3",
   "metadata": {},
   "source": [
    "### Device Setting"
   ]
  },
  {
   "cell_type": "code",
   "execution_count": null,
   "id": "bebaf302",
   "metadata": {},
   "outputs": [],
   "source": [
    "device_num = int(input('Device Number : '))\n",
    "assert device_num in range(4)\n",
    "is_cuda = torch.cuda.is_available()\n",
    "device = torch.device('cuda:'+str(device_num) if is_cuda else 'cpu')\n",
    "device_cpu = torch.device('cpu')\n",
    "print('Current cuda device is', device)"
   ]
  },
  {
   "cell_type": "markdown",
   "id": "897f98c1",
   "metadata": {},
   "source": [
    "### Set K"
   ]
  },
  {
   "cell_type": "code",
   "execution_count": null,
   "id": "879a39ce",
   "metadata": {},
   "outputs": [],
   "source": [
    "K = int(input('K : '))"
   ]
  },
  {
   "cell_type": "markdown",
   "id": "94cac664",
   "metadata": {},
   "source": [
    "### Choose the Domain and Open some tensors"
   ]
  },
  {
   "cell_type": "code",
   "execution_count": null,
   "id": "a89b643e",
   "metadata": {},
   "outputs": [],
   "source": [
    "domain_type = 'domain_A'\n",
    "#domain_type = 'domain_B'\n",
    "#domain_type = 'domain_C'"
   ]
  },
  {
   "cell_type": "code",
   "execution_count": null,
   "id": "ced5f706",
   "metadata": {},
   "outputs": [],
   "source": [
    "if domain_type == 'domain_A':\n",
    "    num_pts_list = [7518, 5220, 2934, 1285]\n",
    "elif domain_type == 'domain_B':\n",
    "    num_pts_list = [14402, 2310, 1036, 578]\n",
    "else:\n",
    "    assert domain_type == 'domain_C'\n",
    "    num_pts_list = [21896, 16694, 10686, 7446]"
   ]
  },
  {
   "cell_type": "code",
   "execution_count": null,
   "id": "2e4e844d",
   "metadata": {},
   "outputs": [],
   "source": [
    "#Choose h\n",
    "num_pts = int(input('num_pts : '))\n",
    "assert num_pts in num_pts_list"
   ]
  },
  {
   "cell_type": "code",
   "execution_count": null,
   "id": "5d27418f",
   "metadata": {},
   "outputs": [],
   "source": [
    "#Load the Position_Vectors\n",
    "X_path = '../../dataset/Section_43/' + domain_type + '/Position_Vectors/' + domain_type[-1] + '_' + str(num_pts) + '_Position.npy'\n",
    "X = torch.from_numpy(np.load(X_path)).float()"
   ]
  },
  {
   "cell_type": "markdown",
   "id": "e4198c4d",
   "metadata": {},
   "source": [
    "### Load the pretrained GNN model"
   ]
  },
  {
   "cell_type": "code",
   "execution_count": null,
   "id": "b92a4592",
   "metadata": {},
   "outputs": [],
   "source": [
    "GNN_model = Model().to(device)\n",
    "_, _, state_dict = torch.load('../section_31/save/trained_GNN_model.pt')\n",
    "GNN_model.load_state_dict(state_dict)"
   ]
  },
  {
   "cell_type": "markdown",
   "id": "45785bc6",
   "metadata": {},
   "source": [
    "### Approximate Surfaces"
   ]
  },
  {
   "cell_type": "code",
   "execution_count": null,
   "id": "0e2d9a1a",
   "metadata": {},
   "outputs": [],
   "source": [
    "class Args:\n",
    "    pass\n",
    "\n",
    "args = Args()\n",
    "args.K = K"
   ]
  },
  {
   "cell_type": "code",
   "execution_count": null,
   "id": "65c15cc4",
   "metadata": {},
   "outputs": [],
   "source": [
    "surface = GNNLocalApproximation(args, X, GNN_model)"
   ]
  },
  {
   "cell_type": "code",
   "execution_count": null,
   "id": "d02ccb8e",
   "metadata": {},
   "outputs": [],
   "source": [
    "x = surface.X_knn\n",
    "weight = surface.weight\n",
    "basis = surface.basis\n",
    "coef_a = surface.coef_a\n",
    "tangent_vectors = surface.tangent_vectors\n",
    "normal_vectors = surface.normal_vectors"
   ]
  },
  {
   "cell_type": "markdown",
   "id": "e8413846",
   "metadata": {},
   "source": [
    "### Hyperparameters Setting"
   ]
  },
  {
   "cell_type": "code",
   "execution_count": null,
   "id": "a3a31f29",
   "metadata": {},
   "outputs": [],
   "source": [
    "t_batch_size = 10 #batch size for 't' (Temporal)\n",
    "batch_size = len(X)//3 ##batch size for 'xyz' (Spatial)\n",
    "learning_rate = 1e-3\n",
    "sch_Step_Size = 2000\n",
    "sch_Gamma = 0.5\n",
    "num_epochs = 20000\n",
    "T = 1. #Terminal Time"
   ]
  },
  {
   "cell_type": "markdown",
   "id": "c7576aaa",
   "metadata": {},
   "source": [
    "### Define u_exact and phi_exact"
   ]
  },
  {
   "cell_type": "code",
   "execution_count": null,
   "id": "a44a35f9",
   "metadata": {},
   "outputs": [],
   "source": [
    "#Define analytic form of u_true and phi\n",
    "def eval_u(x,y,z,t):\n",
    "    return torch.sin(x+torch.sin(t))*torch.exp(torch.cos(y-z))"
   ]
  },
  {
   "cell_type": "code",
   "execution_count": null,
   "id": "9eae2f3f",
   "metadata": {},
   "outputs": [],
   "source": [
    "init_eval = lambda x: torch.sin(x[:,[0]]) * torch.exp(torch.cos(x[:,[1]] - x[:,[2]]))\n",
    "u_true_eval = lambda t,x: torch.sin(x[:,[0]] + torch.sin(t)) * torch.exp(torch.cos(x[:,[1]] - x[:,[2]]))"
   ]
  },
  {
   "cell_type": "code",
   "execution_count": null,
   "id": "082d48b8",
   "metadata": {},
   "outputs": [],
   "source": [
    "if domain_type == 'domain_A':\n",
    "    def eval_phi(x,y,z):\n",
    "        return x**2 + y**2 + z**2 - 1\n",
    "elif domain_type == 'domain_B':\n",
    "    def eval_phi(x,y,z):\n",
    "        return torch.sqrt(x**2 + y**2 + z**2) - 1 + 0.4*x/torch.sqrt(x**2 + y**2 + z**2) * (4*z**2/(x**2 + y**2 + z**2) - 1)\n",
    "else:\n",
    "    assert domain_type == 'domain_C'\n",
    "    def eval_phi(x,y,z):\n",
    "        r2 = x**2 + y**2 + z**2\n",
    "        return torch.sqrt(r2) - 1 - 0.4*x/torch.sqrt(r2) * (5 - 20*(x**2+y**2)/r2 + 16*(x**2+y**2)**2/r2**2)"
   ]
  },
  {
   "cell_type": "markdown",
   "id": "17a6e941",
   "metadata": {},
   "source": [
    "### Declare the model and the optimizer"
   ]
  },
  {
   "cell_type": "code",
   "execution_count": null,
   "id": "37645dd1",
   "metadata": {},
   "outputs": [],
   "source": [
    "model = SimpleNet_TimeDependent(init_eval).to(device)\n",
    "optimizer = torch.optim.Adam(model.parameters(), lr=learning_rate)\n",
    "scheduler = torch.optim.lr_scheduler.StepLR(optimizer, step_size=sch_Step_Size, gamma=sch_Gamma)"
   ]
  },
  {
   "cell_type": "markdown",
   "id": "3bacd189",
   "metadata": {},
   "source": [
    "### Define Loss function"
   ]
  },
  {
   "cell_type": "code",
   "execution_count": null,
   "id": "8bb85b7d",
   "metadata": {},
   "outputs": [],
   "source": [
    "def get_loss_ge(model, t, batch, device):\n",
    "    x, weight, basis, A_inv, derivative = batch\n",
    "    x = x.to(device)\n",
    "    weight = weight.to(device)\n",
    "    basis = basis.to(device)\n",
    "    A_inv = A_inv.to(device)\n",
    "    derivative = derivative.to(device)\n",
    "    \n",
    "    t = expand(t, len(x)//t_batch_size).reshape(-1,1)\n",
    "    t.requires_grad = True\n",
    "    t = t.to(device)\n",
    "    \n",
    "    u = model(t, x).reshape(-1,K)\n",
    "    \n",
    "    t0 = t.reshape(-1,K)[:,[0]]\n",
    "    ut = compute_grad(model(t0, x.reshape(-1,K,3)[:,0]), t0)\n",
    "    f = eval_f_point(eval_u, eval_phi, x.reshape(-1,K,3)[:,0], t0.reshape(-1))\n",
    "    \n",
    "    #print(f.mean())\n",
    "    \n",
    "    b = (weight.reshape(-1,K,1) * basis * u.reshape(-1,K,1)).sum(1)\n",
    "    coef_u = (A_inv * b.unsqueeze(1)).sum(-1)\n",
    "    laplacian = derivative.laplacian(coef_u).reshape(-1,1)\n",
    "\n",
    "    loss_ge = ((ut - laplacian - f)**2).mean()\n",
    "    return loss_ge"
   ]
  },
  {
   "cell_type": "markdown",
   "id": "44c3614c",
   "metadata": {},
   "source": [
    "### Make Batch"
   ]
  },
  {
   "cell_type": "code",
   "execution_count": null,
   "id": "b04930e3",
   "metadata": {
    "scrolled": true
   },
   "outputs": [],
   "source": [
    "u_true = u_true_eval(torch.ones(len(X),1)*T, X)\n",
    "batches = []\n",
    "for i in range(0,len(x),batch_size):\n",
    "    x_batch = x[i:i+batch_size].repeat(t_batch_size,1,1).reshape(-1,3)\n",
    "    weight_batch = weight[i:i+batch_size].repeat(t_batch_size,1)\n",
    "    basis_batch = basis[i:i+batch_size].repeat(t_batch_size,1,1)\n",
    "\n",
    "    A_batch = (weight_batch.reshape(-1,K,1,1) * basis_batch.reshape(-1,K,6,1) * basis_batch.reshape(-1,K,1,6)).sum(1)\n",
    "    A_inv_batch = torch.linalg.inv(A_batch)\n",
    "\n",
    "    derivative_batch = SurfaceDerivative(coef_a[i:i+batch_size].repeat(t_batch_size,1), \n",
    "                                         tangent_vectors[i:i+batch_size].repeat(t_batch_size,1,1), \n",
    "                                         normal_vectors[i:i+batch_size].repeat(t_batch_size,1))\n",
    "\n",
    "    batches.append((x_batch, \n",
    "                    weight_batch, \n",
    "                    basis_batch,\n",
    "                    A_inv_batch, \n",
    "                    derivative_batch))"
   ]
  },
  {
   "cell_type": "markdown",
   "id": "6fbdd6de",
   "metadata": {},
   "source": [
    "### Train"
   ]
  },
  {
   "cell_type": "code",
   "execution_count": null,
   "id": "c28cdc3d",
   "metadata": {},
   "outputs": [],
   "source": [
    "logs = dict()\n",
    "logs['loss_ge'] = []\n",
    "logs['l2_error'] = []\n",
    "logs['max_error'] = []\n",
    "\n",
    "for epoch in tqdm(range(1,num_epochs+1)):\n",
    "    model.train()\n",
    "\n",
    "    t = torch.rand(t_batch_size)*T\n",
    "\n",
    "    batch_loss_ge = 0.\n",
    "    for batch in batches:\n",
    "        optimizer.zero_grad()\n",
    "        loss_ge = get_loss_ge(model, t, batch, device)\n",
    "        loss = loss_ge\n",
    "        loss.backward()\n",
    "        optimizer.step()\n",
    "        batch_loss_ge += loss_ge.item()\n",
    "    scheduler.step()\n",
    "\n",
    "    logs['loss_ge'].append(batch_loss_ge / len(batches))\n",
    "\n",
    "    if epoch % 100 == 0:\n",
    "        model.eval()\n",
    "        t_test = (torch.ones(len(X),1)*T).to(device)\n",
    "        x_test = X.to(device)\n",
    "        u_pred = model(t_test, x_test).detach().cpu()\n",
    "        logs['l2_error'].append(rel_l2_error(u_true, u_pred).item())\n",
    "        logs['max_error'].append(rel_max_error(u_true, u_pred).item())\n",
    "        \n",
    "        print('epoch {} | loss_ge: {:1.2e} l2_error: {:1.2e} max_error: {:1.2e}'.format(\n",
    "            epoch, logs['loss_ge'][-1], logs['l2_error'][-1], logs['max_error'][-1]))\n"
   ]
  },
  {
   "cell_type": "markdown",
   "id": "84c425ab",
   "metadata": {},
   "source": [
    "### Plotting"
   ]
  },
  {
   "cell_type": "code",
   "execution_count": null,
   "id": "1c98d54a",
   "metadata": {},
   "outputs": [],
   "source": [
    "plt.figure()\n",
    "plt.plot(logs['loss_ge'], label=r'$Loss_{GE}$')\n",
    "plt.yscale('log')\n",
    "plt.grid()\n",
    "plt.legend()\n",
    "plt.show()\n",
    "\n",
    "plt.figure()\n",
    "plt.plot(logs['l2_error'], label=r'$L_2 error$')\n",
    "plt.plot(logs['max_error'], label=r'$L_\\infty error$')\n",
    "plt.yscale('log')\n",
    "plt.grid()\n",
    "plt.legend()\n",
    "plt.show()"
   ]
  },
  {
   "cell_type": "markdown",
   "id": "915f6755",
   "metadata": {},
   "source": [
    "### Save"
   ]
  },
  {
   "cell_type": "code",
   "execution_count": null,
   "id": "87383d4e",
   "metadata": {},
   "outputs": [],
   "source": [
    "save_path = './save/Section_43/' + domain_type + '/{}_{}.pt'.format(domain_type[-1], num_pts)\n",
    "torch.save((logs, model.to(device_cpu).state_dict()), save_path)"
   ]
  },
  {
   "cell_type": "markdown",
   "id": "bc40d9fb",
   "metadata": {},
   "source": [
    "### Check the Error"
   ]
  },
  {
   "cell_type": "code",
   "execution_count": null,
   "id": "2a29a5dc",
   "metadata": {},
   "outputs": [],
   "source": [
    "logs, load = torch.load(save_path)\n",
    "model = SimpleNet_TimeDependent(init_eval).to(device)\n",
    "model.load_state_dict(load)"
   ]
  },
  {
   "cell_type": "code",
   "execution_count": null,
   "id": "292f289b",
   "metadata": {
    "scrolled": true
   },
   "outputs": [],
   "source": [
    "print('Rel_L2_Error : ' + \"%.2e\"%logs['l2_error'][-1])\n",
    "print('Rel_Max_Error : ' + \"%.2e\"%logs['max_error'][-1])"
   ]
  },
  {
   "cell_type": "markdown",
   "id": "d7b86579",
   "metadata": {},
   "source": [
    "### Measure Time"
   ]
  },
  {
   "cell_type": "code",
   "execution_count": null,
   "id": "737915a4",
   "metadata": {},
   "outputs": [],
   "source": [
    "after_time = time.time()\n",
    "how_long = int(after_time - before_time)\n",
    "print('{}hr {}min {}sec'.format(how_long//3600, (how_long%3600)//60, (how_long%3600)%60))"
   ]
  }
 ],
 "metadata": {
  "kernelspec": {
   "display_name": "Python 3 (ipykernel)",
   "language": "python",
   "name": "python3"
  },
  "language_info": {
   "codemirror_mode": {
    "name": "ipython",
    "version": 3
   },
   "file_extension": ".py",
   "mimetype": "text/x-python",
   "name": "python",
   "nbconvert_exporter": "python",
   "pygments_lexer": "ipython3",
   "version": "3.11.9"
  }
 },
 "nbformat": 4,
 "nbformat_minor": 5
}
